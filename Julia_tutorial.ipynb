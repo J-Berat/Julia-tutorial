{
 "cells": [
  {
   "cell_type": "markdown",
   "id": "8b13cfe1-993c-4241-b387-46e10dcb69d2",
   "metadata": {},
   "source": [
    "# Julia Tutorial Notebook\n",
    "This notebook introduces core features of the Julia language."
   ]
  },
  {
   "cell_type": "code",
   "execution_count": null,
   "id": "92474478-7045-439c-a976-58e1be82beef",
   "metadata": {},
   "outputs": [],
   "source": [
    "using FITSIO, Random, DataFrames, ImageFiltering, TestImages, CairoMakie, CSV, Statistics, Distributions"
   ]
  },
  {
   "cell_type": "markdown",
   "id": "17600d8e-da66-4680-b9b8-b8580516be8f",
   "metadata": {},
   "source": [
    "## Introduction to Types\n",
    "\n",
    "Julia has several fundamental types for numerical computing.<br> \n",
    "These include scalars (**Int, Float64, Bool, String**), and array types.<br> \n",
    "Arrays in Julia are mutable, n-dimensional containers that are subtypes of **AbstractArray**.<br> \n",
    "Vectors are 1-dimensional arrays, i.e., **Array{T,1}**, commonly constructed with square brackets.<br>\n",
    "In general, to know the type of a variable X, you can use **typeof(X)**."
   ]
  },
  {
   "cell_type": "code",
   "execution_count": null,
   "id": "b7ea9972-18ff-4a9e-837b-246e9b72bf22",
   "metadata": {},
   "outputs": [],
   "source": [
    "x = 42             \n",
    "y = 3.14          \n",
    "name = \"Julia\"     \n",
    "flag = true        \n",
    "range_example = 1:10\n",
    "A = [1, 2, 3]\n",
    "R = rand(2, 2)\n",
    "S = reshape(1:6, 1, 2, 3)\n",
    "T= (1, 2.0);"
   ]
  },
  {
   "cell_type": "code",
   "execution_count": null,
   "id": "0328745f-7d9e-440d-bab6-9f163093bf2e",
   "metadata": {},
   "outputs": [],
   "source": [
    "# Type inspection\n",
    "println(typeof(x)) # Int64: Integer on 64 bits\n",
    "println(typeof(y)) # Float64: Float on 64 bits\n",
    "println(typeof(name)) # String: String\n",
    "println(typeof(flag)) # Bool: Boolean\n",
    "println(typeof(range_example)) # UnitRange{Int64}: Compact way to represent a sequence of integers with only the start and stop.\n",
    "println(typeof(A)) # Vector{Int64}: Vector of integers on 64 bits         \n",
    "println(typeof(R)) # Matrix{Float64}: Matrix of floats on 64 bits        \n",
    "println(typeof(S)) # Base.ReshapedArray{Int64, 3, UnitRange{Int64}, Tuple{}}: A reshaped 3D array, \n",
    "#which contains a UnitRange{Int64} (the source data) with no extra indexing transformations (Tuple{})\n",
    "println(typeof(T)) # Tuple{Int64, Float64}: Tuple of 2 elements. First one is an Int64, the second one is a Float64"
   ]
  },
  {
   "cell_type": "code",
   "execution_count": null,
   "id": "80f7ac7e-e00d-4ce0-9fba-f6c1c0623ab1",
   "metadata": {},
   "outputs": [],
   "source": [
    "A = [1, 2, 3, 4]              # 1D Array\n",
    "B = [1.0 2.0; 3.0 4.0]        # 2D Array (matrix)\n",
    "Z = zeros(3, 3)               # 3x3 array of zeros which are defined as Floats\n",
    "O = ones(2, 2)                # 2x2 array of ones which are defined as Floats\n",
    "R = rand(4, 4)                # 4x4 array of random numbers which are defined as Floats\n",
    "Fi = fill(7, 3, 3)             # 3x3 array filled with 7 which are defined as Integers (because 7, we put 7 and not 7.0)\n",
    "\n",
    "# Basic array properties\n",
    "println(size(A))\n",
    "println(length(B))\n",
    "println(sum(O))"
   ]
  },
  {
   "cell_type": "markdown",
   "id": "554c24e9-6f21-4660-ae01-bf38bc2ff582",
   "metadata": {},
   "source": [
    "## Booleans and Logic"
   ]
  },
  {
   "cell_type": "markdown",
   "id": "fe246b0a-ab9e-4915-8fef-b1311a813b7b",
   "metadata": {},
   "source": [
    "Julia supports common boolean operators: <br>\n",
    " >  : greater than <br>\n",
    " <  : less than <br>\n",
    " >= : greater than or equal to <br>\n",
    " <= : less than or equal to <br>\n",
    " == : equality (value-based) <br>\n",
    " != : inequality <br>\n",
    " ===: identity (same object in memory) <br>\n",
    " !==: not identical <br>"
   ]
  },
  {
   "cell_type": "code",
   "execution_count": null,
   "id": "d63f6315-35f1-48ba-ac49-7ccd0b009639",
   "metadata": {},
   "outputs": [],
   "source": [
    "a = 5\n",
    "b = 7\n",
    "\n",
    "println(a > b)     # false\n",
    "println(a < b)     # true\n",
    "println(a == 5)    # true\n",
    "println(a === 5)   # true (same type and value)\n",
    "println(a === 5.0) # false (different types)\n",
    "println(a != b)    # true\n",
    "\n",
    "x = [1, 2, 3]\n",
    "y = [1, 2, 3]\n",
    "z = x\n",
    "println(x == y)    # true (same content)\n",
    "println(x === y)   # false (different objects)\n",
    "println(x === z)   # true (same object)"
   ]
  },
  {
   "cell_type": "code",
   "execution_count": null,
   "id": "0dcfb0f7-3413-4afa-955f-96af11ddf346",
   "metadata": {},
   "outputs": [],
   "source": [
    "# isnothing, isnan, ismissing: check for null-like values\n",
    "println(isnothing(nothing))   # true\n",
    "println(isnan(NaN))           # true\n",
    "println(ismissing(missing))   # true\n",
    "\n",
    "# something: returns first non-missing value\n",
    "println(something(missing, 42))   # 42"
   ]
  },
  {
   "cell_type": "markdown",
   "id": "2217f8ba-1952-4290-9a65-4e6068fe2d4f",
   "metadata": {},
   "source": [
    "## Basic Operations"
   ]
  },
  {
   "cell_type": "code",
   "execution_count": null,
   "id": "e922a029-1b8d-49aa-b264-69b6726b5922",
   "metadata": {},
   "outputs": [],
   "source": [
    "# Arithmetic\n",
    "println(\"------------------------------\")\n",
    "println(\"Arithmetic\")\n",
    "println(3 + 4)\n",
    "println(2^3)\n",
    "println(10 / 4)\n",
    "\n",
    "# Array operations\n",
    "println(\"------------------------------\")\n",
    "println(\"Array operations\")\n",
    "v = [1, 2, 3]\n",
    "println(sum(v)) \n",
    "println(dot(v, v)) # Dot Product"
   ]
  },
  {
   "cell_type": "markdown",
   "id": "8cb233e3-45bc-45bd-ada8-0dd3216eedda",
   "metadata": {},
   "source": [
    "## Functions"
   ]
  },
  {
   "cell_type": "code",
   "execution_count": null,
   "id": "d7ddf4ec-deff-42bd-b836-5a4bb4c31540",
   "metadata": {},
   "outputs": [],
   "source": [
    "# Named function\n",
    "greet(name) = \"Hello, $name !\"\n",
    "println(greet(\"Alice\"))\n",
    "\n",
    "# Anonymous function\n",
    "println(map(x -> x^2, 1:5))"
   ]
  },
  {
   "cell_type": "markdown",
   "id": "49bb50d6-c7e2-4501-ae5f-62dae48c7378",
   "metadata": {},
   "source": [
    "Julia functions can take optional and keyword arguments for flexibility."
   ]
  },
  {
   "cell_type": "code",
   "execution_count": null,
   "id": "3fefc4c5-77bb-42e7-8ee3-2bda29b1a0a0",
   "metadata": {},
   "outputs": [],
   "source": [
    "# Optional argument with default value\n",
    "greet(name=\"world\") = println(\"Hello, $name !\")\n",
    "greet()           # prints Hello, world!\n",
    "greet(\"Alice\")    # prints Hello, Alice!\n",
    "\n",
    "# Function with keyword arguments\n",
    "function describe_star(name; temperature=5778, startype=\"G\")\n",
    "    println(\"Star $name: $startype-type with T = $temperature K\")\n",
    "end\n",
    "\n",
    "describe_star(\"Sirius\")\n",
    "describe_star(\"Betelgeuse\"; temperature=3500, startype=\"M\")"
   ]
  },
  {
   "cell_type": "markdown",
   "id": "443b3bef-0261-46bd-b481-313b6c998f24",
   "metadata": {},
   "source": [
    "# Multiple Dispatch Example\n",
    "Julia's functions can have different behaviors depending on the types of their arguments."
   ]
  },
  {
   "cell_type": "code",
   "execution_count": null,
   "id": "84b4849c-6867-4dd1-890f-423b9afdaf9c",
   "metadata": {},
   "outputs": [],
   "source": [
    "area(radius::Float64) = π * radius^2                    # circle\n",
    "area(length::Float64, width::Float64) = length * width  # rectangle\n",
    "\n",
    "println(area(3.0))              # calls 1-argument method\n",
    "println(area(4.0, 5.0))         # calls 2-argument method\n",
    "\n",
    "# You can see all methods for a function\n",
    "println(methods(area))\n",
    "\n",
    "println(\"--------------------------------\")\n",
    "\n",
    "describe_type(x::Int) = \"This is an integer.\"\n",
    "describe_type(x::Float64) = \"This is a float.\"\n",
    "describe_type(x::AbstractString) = \"This is a string.\"\n",
    "describe_type(x, y) = \"This is a tuple of two arguments.\"\n",
    "\n",
    "println(describe_type(42))        # uses Int method\n",
    "println(describe_type(3.14))      # uses Float64 method\n",
    "println(describe_type(\"hello\"))  # uses String method\n",
    "println(describe_type(1, \"a\"))    # uses 2-arg method"
   ]
  },
  {
   "cell_type": "markdown",
   "id": "2f2ed008-d7f9-435c-8dc4-f2bf84bb3084",
   "metadata": {},
   "source": [
    "## Broadcasting\n",
    "\n",
    "Vectorize the operations."
   ]
  },
  {
   "cell_type": "code",
   "execution_count": null,
   "id": "c8246961-1511-4c59-b136-dd9b5810a749",
   "metadata": {},
   "outputs": [],
   "source": [
    "f(x) = x^2 + 1\n",
    "arr = 1:5\n",
    "println(collect(arr))\n",
    "println(f.(arr))                  # broadcast over array\n",
    "println(collect(arr .+ 2))        # element-wise addition"
   ]
  },
  {
   "cell_type": "markdown",
   "id": "41cfa486-906c-46de-ad1d-7c8f3a394e36",
   "metadata": {},
   "source": [
    "## Conditionals and Loops"
   ]
  },
  {
   "cell_type": "code",
   "execution_count": null,
   "id": "223a33f7-80a1-42d3-b7d1-160fb16b7f6e",
   "metadata": {},
   "outputs": [],
   "source": [
    "x = 5\n",
    "if x > 0\n",
    "    println(\"Positive\")\n",
    "elseif x == 0\n",
    "    println(\"Zero\")\n",
    "else\n",
    "    println(\"Negative\")\n",
    "end\n",
    "\n",
    "# Ternary operator\n",
    "println(\"------------------------------\")\n",
    "println(x > 0 ? \"Yes\" : \"No\")\n",
    "\n",
    "# for loop\n",
    "println(\"------------------------------\")\n",
    "println(\"---for---\")\n",
    "for i in 1:5\n",
    "    println(\"i = \", i)\n",
    "end\n",
    "\n",
    "# while loop\n",
    "println(\"------------------------------\")\n",
    "println(\"---while---\")\n",
    "i = 1\n",
    "while i <= 5\n",
    "    println(i)\n",
    "    i += 1\n",
    "end"
   ]
  },
  {
   "cell_type": "markdown",
   "id": "56fbe63a-1132-4bf6-ba49-b7bbab5beef7",
   "metadata": {},
   "source": [
    "## Introduction to Dictionaries\n",
    "\n",
    "Dictionaries in Julia are collections of key-value pairs.\n",
    "They are mutable and indexed by arbitrary keys."
   ]
  },
  {
   "cell_type": "code",
   "execution_count": null,
   "id": "d1039493-4ffb-4f44-bd47-53b305aa51d4",
   "metadata": {},
   "outputs": [],
   "source": [
    "# Create a dictionary\n",
    "planet_info = Dict(\"name\" => \"Zentar\", \"radius_km\" => 7100, \"has_atmosphere\" => true)\n",
    "\n",
    "# Access values by key\n",
    "println(planet_info[\"radius_km\"])\n",
    "\n",
    "# Add or update a key\n",
    "planet_info[\"distance_pc\"] = 42.5\n",
    "\n",
    "# Check if a key exists\n",
    "println(haskey(planet_info, \"name\"))\n",
    "\n",
    "# Iterate over keys and values\n",
    "for (k, v) in planet_info\n",
    "    println(k, \": \", v)\n",
    "end\n",
    "\n",
    "# Get all keys or values\n",
    "println(keys(planet_info))\n",
    "println(values(planet_info))"
   ]
  },
  {
   "cell_type": "markdown",
   "id": "66ccf95e-2bd7-4780-843e-b7f1595e8b47",
   "metadata": {},
   "source": [
    "## Performance and Convenience Macros"
   ]
  },
  {
   "cell_type": "code",
   "execution_count": null,
   "id": "fdfcdc52-163a-49ae-b8dc-7ccf551f9a1d",
   "metadata": {},
   "outputs": [],
   "source": [
    "# @elapsed: measures execution time of an expression and returns it (useful for benchmarking)\n",
    "elapsed_time = @elapsed sum(rand(10^6))\n",
    "println(\"Time elapsed: \", elapsed_time, \" seconds\")\n",
    "\n",
    "# @time: prints execution time and memory allocations\n",
    "@time sum(rand(10^6))\n",
    "\n",
    "# @assert: checks that a condition is true, otherwise throws an error\n",
    "x = 10\n",
    "@assert x > 0 \"x must be positive\"\n",
    "\n",
    "# @views: avoids unnecessary array copies by taking non-copying views\n",
    "A = rand(10, 10)\n",
    "@views sub = A[1:5, :]   # sub is a view, not a copy\n",
    "\n",
    "# @inbounds: disables bounds checking (use with care in performance-sensitive loops)\n",
    "sum_val = 0.0\n",
    "@inbounds for i in 1:length(A)\n",
    "    sum_val += A[i]\n",
    "end\n",
    "println(\"Sum without bounds checking: \", sum_val)\n",
    "\n",
    "# @.: applies broadcasting to every function and operator in the expression\n",
    "x = 1:5\n",
    "y = @. x^2 + 3x + 1   # same as x.^2 .+ 3 .* x .+ 1\n",
    "println(y)\n",
    "\n",
    "# @which: find which method will be called\n",
    "println(@which sqrt(2.0))"
   ]
  },
  {
   "cell_type": "markdown",
   "id": "f4b6a123-bbc5-4631-be92-631d8c3184e9",
   "metadata": {},
   "source": [
    "## Linear Regression Example\n",
    "\n",
    "We'll generate synthetic data and perform linear regression using the \\ operator."
   ]
  },
  {
   "cell_type": "code",
   "execution_count": null,
   "id": "1975d290-6231-4995-b39b-294379f0d0ce",
   "metadata": {},
   "outputs": [],
   "source": [
    "# Generate noisy linear data\n",
    "t = 1:100\n",
    "y = 3 .* t .+ 5 .+ randn(length(t)) .* 20  # y = 3t + 5 + noise\n",
    "\n",
    "# Design matrix: column of 1s and t values\n",
    "X = hcat(ones(length(t)), t)\n",
    "\n",
    "# Solve the least squares problem: X * θ = y\n",
    "θ = X \\ y  # returns [intercept, slope]"
   ]
  },
  {
   "cell_type": "code",
   "execution_count": null,
   "id": "0d3a354b-d493-4e71-ab26-8fc6cdf88531",
   "metadata": {},
   "outputs": [],
   "source": [
    "println(\"Intercept: \", θ[1])\n",
    "println(\"Slope: \", θ[2])"
   ]
  },
  {
   "cell_type": "code",
   "execution_count": null,
   "id": "03195734-2fdc-4c1f-a04d-e9171c59f150",
   "metadata": {},
   "outputs": [],
   "source": [
    "println(\"Intercept: \", round(θ[1]; digits=2))\n",
    "println(\"Slope: \", round(θ[2]; digits=2))"
   ]
  },
  {
   "cell_type": "markdown",
   "id": "a36b911c-eb06-4142-b87b-5bba7846c801",
   "metadata": {},
   "source": [
    "## Basic statistics and use of Distributions"
   ]
  },
  {
   "cell_type": "code",
   "execution_count": null,
   "id": "5436263d-e2b2-4142-a1e3-4fecfb0fe005",
   "metadata": {},
   "outputs": [],
   "source": [
    "# Basic descriptive stats\n",
    "sample = randn(1000) .* 2 .+ 10  # normally distributed sample with μ ≈ 10, σ ≈ 2\n",
    "println(\"Mean: \", mean(sample))\n",
    "println(\"Median: \", median(sample))\n",
    "println(\"Standard deviation: \", std(sample))\n",
    "\n",
    "println(\"-----------------------------\")\n",
    "d = Normal(5, 1.5) # Normal distribution with mean = 5, sigma = 1.5\n",
    "println(\"Probability of x < 4: \", cdf(d, 4))\n",
    "println(\"5 Random samples: \", rand(d, 5))"
   ]
  },
  {
   "cell_type": "markdown",
   "id": "452d75d4-20c6-41ec-924d-a18e8b7a1672",
   "metadata": {},
   "source": [
    "## Introduction to DataFrames"
   ]
  },
  {
   "cell_type": "code",
   "execution_count": null,
   "id": "59800481-54c7-43dc-9799-26c278c28808",
   "metadata": {},
   "outputs": [],
   "source": [
    "df = DataFrame(Name=[\"Alice\", \"Bob\"], Age=[28, 34])\n",
    "\n",
    "df.Height = [165, 180]\n",
    "select!(df, Not(:Height))\n",
    "df.Weight = [55.0, 78.0]\n",
    "df.BMI = df.Weight ./ (df.Age .^ 0.5)   \n",
    "\n",
    "# Preview and summarize\n",
    "display(first(df, 5))\n",
    "display(describe(df))\n",
    "println(df)\n",
    "println(mean(df.Age))"
   ]
  },
  {
   "cell_type": "code",
   "execution_count": null,
   "id": "d5efbc1f-91f9-405e-8e1b-1792ee5a7f5f",
   "metadata": {},
   "outputs": [],
   "source": [
    "# Example: generate a planetary dataset and save as CSV\n",
    "planet_names = [\"Zentar\", \"Quarnyx\", \"Veluria\", \"Tarnis\", \"Xebos\", \"Omnix\", \"Lurak\", \"Vornis\"]\n",
    "radii = rand(8) .* 6000 .+ 2000              # radius in km\n",
    "periods = rand(8) .* 300 .+ 50               # orbital period in days\n",
    "inclinations = rand(8) .* 5.0                # inclination in degrees\n",
    "has_atmosphere = rand(Bool, 8)               # atmosphere: true or false\n",
    "distances = rand(8) .* 40 .+ 30              # distance to Sun in pc\n",
    "\n",
    "planets_df = DataFrame(\n",
    "    Planet = planet_names,\n",
    "    Radius_km = radii,\n",
    "    Period_days = periods,\n",
    "    Inclination_deg = inclinations,\n",
    "    Atmosphere = has_atmosphere,\n",
    "    Distance_pv = distances\n",
    ")\n",
    "\n",
    "CSV.write(\"planets.csv\", planets_df)\n",
    "\n",
    "println(planets_df)"
   ]
  },
  {
   "cell_type": "code",
   "execution_count": null,
   "id": "8f50a2e4-3af0-4749-b865-beaa6881e2d9",
   "metadata": {},
   "outputs": [],
   "source": [
    "example_data = randn(256, 256) .* 100 .+ 1000\n",
    "\n",
    "FITS(\"example.fits\", \"w\") do fits\n",
    "    write(fits, example_data)\n",
    "end         "
   ]
  },
  {
   "cell_type": "code",
   "execution_count": null,
   "id": "489178b4-c949-4fdf-9a18-0f1f836de083",
   "metadata": {},
   "outputs": [],
   "source": [
    "fits = FITS(\"example.fits\") "
   ]
  },
  {
   "cell_type": "code",
   "execution_count": null,
   "id": "900b74a1-3532-437d-8547-ac7cdb51c1d2",
   "metadata": {},
   "outputs": [],
   "source": [
    "data = read(fits[1])"
   ]
  },
  {
   "cell_type": "code",
   "execution_count": null,
   "id": "66b0f2e4-2ad6-417d-a395-ee71436371c6",
   "metadata": {},
   "outputs": [],
   "source": [
    "# Inspect array dimensions and contents\n",
    "println(minimum(data), maximum(data))\n",
    "println(extrema(data))\n",
    "println(mean(data))"
   ]
  },
  {
   "cell_type": "code",
   "execution_count": null,
   "id": "d0af58c2-3888-4134-a89e-a9694b7609fa",
   "metadata": {},
   "outputs": [],
   "source": [
    "# typeof, eltype, ndims: basic inspection of array properties\n",
    "println(typeof(data))     # full array type\n",
    "println(eltype(data))     # element type\n",
    "println(ndims(data))      # number of dimensions\n",
    "\n",
    "# size, length, axes: get array shape information\n",
    "println(size(data))\n",
    "println(length(data))\n",
    "println(axes(data))\n",
    "\n",
    "# unique, sort, reverse, shuffle!\n",
    "a = [3, 1, 2, 2, 1]\n",
    "println(unique(a))\n",
    "println(sort(a))\n",
    "println(reverse(a))\n",
    "shuffle!(a)\n",
    "println(a)"
   ]
  },
  {
   "cell_type": "markdown",
   "id": "455a947a-0b25-4a10-8860-14f21db2ab8a",
   "metadata": {},
   "source": [
    "## Introduction to plotting with CairoMakie"
   ]
  },
  {
   "cell_type": "markdown",
   "id": "9b9b01ae-01b3-422f-9e36-61c51a7adb54",
   "metadata": {},
   "source": [
    "Plotting with CairoMakie needs a Figure object and an Axis object.<br>\n",
    "In these you can put the parameter you like, size of the figure, labels, ticks, colors..."
   ]
  },
  {
   "cell_type": "code",
   "execution_count": null,
   "id": "3ff5e38f-6674-41d8-92b1-ac895d593569",
   "metadata": {},
   "outputs": [],
   "source": [
    "# Plot the fit\n",
    "fig_lr = Figure()\n",
    "ax_lr = Axis(fig_lr[1, 1], xlabel=\"t\", ylabel=\"y\", title=\"Linear Fit\")\n",
    "scatter!(ax_lr, t, y, label=\"Data\")\n",
    "lines!(ax_lr, t, X * θ, color=:red, label=\"Fit\")\n",
    "axislegend(ax_lr)\n",
    "fig_lr"
   ]
  },
  {
   "cell_type": "code",
   "execution_count": null,
   "id": "e6718b8f-da83-4d69-9e3d-ee76cd9b7184",
   "metadata": {},
   "outputs": [],
   "source": [
    "# Plot a line graph\n",
    "x = 0:0.1:2π\n",
    "y = sin.(x)\n",
    "fig = Figure()\n",
    "ax = Axis(fig[1, 1], xlabel=\"x\", ylabel=\"sin(x)\", title=\"Sine Wave\")\n",
    "lines!(ax, x, y)\n",
    "fig"
   ]
  },
  {
   "cell_type": "code",
   "execution_count": null,
   "id": "ba3baa6f-8770-413e-b811-a3299c1141b3",
   "metadata": {},
   "outputs": [],
   "source": [
    "# Plot a FITS image slice (if available)\n",
    "fig2 = Figure()\n",
    "ax2 = Axis(fig2[1, 1], title=\"FITS Data Slice\")\n",
    "heatmap!(ax2, data)\n",
    "fig2"
   ]
  },
  {
   "cell_type": "code",
   "execution_count": null,
   "id": "57a2b84e-3d6b-44ac-8585-f94f0b7be02b",
   "metadata": {},
   "outputs": [],
   "source": [
    "heat_array = randn(100, 100) .* 5 .+ 20\n",
    "fig3 = Figure()\n",
    "ax3 = Axis(fig3[1, 1], title=\"Synthetic Heatmap\", xlabel=\"x\", ylabel=\"y\")\n",
    "heatmap!(ax3, heat_array)\n",
    "display(fig3)"
   ]
  },
  {
   "cell_type": "markdown",
   "id": "812ed760-f880-4803-bd93-ea18f217a240",
   "metadata": {},
   "source": [
    "## Introduction to ImageFiltering"
   ]
  },
  {
   "cell_type": "code",
   "execution_count": null,
   "id": "d09e733a-e00d-4997-b424-67b3611130a0",
   "metadata": {},
   "outputs": [],
   "source": [
    "# Simple 2D filtering for image processing.\n",
    "img = testimage(\"cameraman\")\n",
    "blurred = imfilter(img, Kernel.gaussian(3))\n",
    "image(img)"
   ]
  },
  {
   "cell_type": "code",
   "execution_count": null,
   "id": "2541ade4-9412-4e75-8ab5-de4c50de55a9",
   "metadata": {},
   "outputs": [],
   "source": [
    "image(blurred)"
   ]
  }
 ],
 "metadata": {
  "kernelspec": {
   "display_name": "Julia 1.10.0",
   "language": "julia",
   "name": "julia-1.10"
  },
  "language_info": {
   "file_extension": ".jl",
   "mimetype": "application/julia",
   "name": "julia",
   "version": "1.10.0"
  }
 },
 "nbformat": 4,
 "nbformat_minor": 5
}
